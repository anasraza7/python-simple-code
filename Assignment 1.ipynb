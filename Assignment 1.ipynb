{
 "cells": [
  {
   "cell_type": "code",
   "execution_count": null,
   "metadata": {},
   "outputs": [],
   "source": [
    "\n",
    "#2. Check Number either positive, negative or zero\n",
    "num = input(\"Enter number\")\n",
    "num = int(num)\n",
    "if (num)>0:\n",
    "    print (\"Input is postive\")\n",
    "elif (num) < 0:\n",
    "    print(\"input is negative\")\n",
    "elif (num) == 0:\n",
    "    print(\"number is zero\")"
   ]
  },
  {
   "cell_type": "code",
   "execution_count": 15,
   "metadata": {},
   "outputs": [
    {
     "name": "stdout",
     "output_type": "stream",
     "text": [
      "Enter numeritor6\n",
      "Enter denominator2\n",
      "Number  6  is Completely divisible by 2\n"
     ]
    }
   ],
   "source": [
    "\n",
    "#3. Divisibility Check of two numbers\n",
    "\n",
    "num = int(input(\"Enter numeritor\"))\n",
    "dem = int(input(\"Enter denominator\"))\n",
    "if num % dem ==0:\n",
    "    print(\"Number \" ,num, \" is Completely divisible by\", dem)\n",
    "elif num % dem !=0:\n",
    "    print(\"Number \" ,num, \" is not Completely divisible by\", dem)"
   ]
  },
  {
   "cell_type": "code",
   "execution_count": 18,
   "metadata": {},
   "outputs": [
    {
     "name": "stdout",
     "output_type": "stream",
     "text": [
      "Enter radius33\n",
      "Area is:  3421.638\n"
     ]
    }
   ],
   "source": [
    "#1. Calculate Area of a Circle\n",
    "\n",
    "r = int(input(\"Enter radius\"))\n",
    "a= 3.142 * pow(r,2)\n",
    "print (\"Area is: \" ,a)\n"
   ]
  },
  {
   "cell_type": "code",
   "execution_count": null,
   "metadata": {},
   "outputs": [],
   "source": [
    "#5. Calculate Volume of a sphere\n",
    "\n",
    "r = int(input(\"Enter radius\"))\n",
    "v= 4/3 * 3.142 * pow(r,3)\n",
    "print (\"Volume is: \" ,v)\n"
   ]
  },
  {
   "cell_type": "code",
   "execution_count": 1,
   "metadata": {},
   "outputs": [
    {
     "name": "stdout",
     "output_type": "stream",
     "text": [
      "How many times you want to copy3\n",
      "HiHiHi\n"
     ]
    }
   ],
   "source": [
    "# 6. Copy string n times\n",
    "\n",
    "str =\"\"\n",
    "n = int(input(\"How many times you want to copy\"))\n",
    "for i in range (n):\n",
    "    str = str + \"Hi\"\n",
    "    \n",
    "print (str)"
   ]
  },
  {
   "cell_type": "code",
   "execution_count": 3,
   "metadata": {},
   "outputs": [
    {
     "name": "stdout",
     "output_type": "stream",
     "text": [
      "Enter number22\n",
      "Number  22  is even\n"
     ]
    }
   ],
   "source": [
    "#7. Check if number is Even or Odd\n",
    "\n",
    "num = int(input(\"Enter number\"))\n",
    "if num % 2 ==0:\n",
    "    print(\"Number \" ,num, \" is even\")\n",
    "elif num % 2 !=0:\n",
    "    print(\"Number \" ,num, \" is odd\")"
   ]
  },
  {
   "cell_type": "code",
   "execution_count": 5,
   "metadata": {},
   "outputs": [
    {
     "name": "stdout",
     "output_type": "stream",
     "text": [
      "Enter magnitude of Triangle base:4\n",
      "Enter magnitude of Triangle height:3\n",
      "Area of triangle is:   6.0\n"
     ]
    }
   ],
   "source": [
    "#11. Euclidean distance\n",
    "\n",
    "b = int(input(\"Enter magnitude of Triangle base:\"))\n",
    "h = int(input(\"Enter magnitude of Triangle height:\"))\n",
    "a = 1/2 * (b*h)\n",
    "print(\"Area of triangle is:  \", a)"
   ]
  },
  {
   "cell_type": "code",
   "execution_count": 10,
   "metadata": {},
   "outputs": [
    {
     "name": "stdout",
     "output_type": "stream",
     "text": [
      "Co-ordinate for point 1\n",
      "Enter Co-ordinate for x1:2\n",
      "Enter Co-ordinate for y1:2\n",
      "Co-ordinate for point 2\n",
      "Enter Co-ordinate for x2:5\n",
      "Enter Co-ordinate for y2:5\n",
      "4.242640687119285\n"
     ]
    }
   ],
   "source": [
    "#11. Euclidean distance\n",
    "\n",
    "\n",
    "print (\"Co-ordinate for point 1\")\n",
    "x1 = int(input(\"Enter Co-ordinate for x1:\"))\n",
    "y1 = int(input(\"Enter Co-ordinate for y1:\"))\n",
    "print (\"Co-ordinate for point 2\")\n",
    "x2 = int(input(\"Enter Co-ordinate for x2:\"))\n",
    "y2 = int(input(\"Enter Co-ordinate for y2:\"))\n",
    "\n",
    "d = pow( pow (x2-x1, 2) + pow (y2-y1,2),1/2)\n",
    "print(d)\n",
    "\n"
   ]
  },
  {
   "cell_type": "code",
   "execution_count": 12,
   "metadata": {},
   "outputs": [
    {
     "name": "stdout",
     "output_type": "stream",
     "text": [
      "Enter number: 5\n",
      "152.4\n"
     ]
    }
   ],
   "source": [
    "#12. Feet to Centimeter Converter\n",
    "\n",
    "feet = int(input(\"Enter number: \"))\n",
    "centi = 30.48 * feet\n",
    "print(centi)"
   ]
  },
  {
   "cell_type": "code",
   "execution_count": 13,
   "metadata": {},
   "outputs": [
    {
     "name": "stdout",
     "output_type": "stream",
     "text": [
      "Enter weight:3\n",
      "Enter height:2\n",
      "0.75\n"
     ]
    }
   ],
   "source": [
    "#13. BMI Calculator\n",
    "\n",
    "\n",
    "weight = int(input(\"Enter weight:\"))\n",
    "height = int(input(\"Enter height:\"))\n",
    "\n",
    "BMI = weight/ pow(height,2)\n",
    "print(BMI)"
   ]
  },
  {
   "cell_type": "code",
   "execution_count": 15,
   "metadata": {},
   "outputs": [
    {
     "name": "stdout",
     "output_type": "stream",
     "text": [
      "Enter value of n: 5\n",
      "15\n"
     ]
    }
   ],
   "source": [
    "# 14. Sum of n Positive Integers\n",
    "\n",
    "num = int(input(\"Enter value of n: \"))\n",
    "val = 0\n",
    "for i in range (num+1):\n",
    "    val = val + i\n",
    "print (val)\n",
    "    \n"
   ]
  },
  {
   "cell_type": "code",
   "execution_count": 20,
   "metadata": {},
   "outputs": [
    {
     "name": "stdout",
     "output_type": "stream",
     "text": [
      "Enter value of n: 1234\n",
      "10\n"
     ]
    }
   ],
   "source": [
    "# 15. Digits Sum of a Number\n",
    "\n",
    "num = int(input(\"Enter value of n: \"))\n",
    "temp =0\n",
    "val = 0\n",
    "while (num %10) > 0:\n",
    "    temp = num %10\n",
    "    num = int(num /10)\n",
    "    val = val +temp\n",
    "    \n",
    "print(val)\n"
   ]
  },
  {
   "cell_type": "code",
   "execution_count": null,
   "metadata": {},
   "outputs": [],
   "source": []
  },
  {
   "cell_type": "code",
   "execution_count": null,
   "metadata": {},
   "outputs": [],
   "source": []
  },
  {
   "cell_type": "code",
   "execution_count": 26,
   "metadata": {},
   "outputs": [
    {
     "name": "stdout",
     "output_type": "stream",
     "text": [
      "e\n",
      "Character is vowel\n"
     ]
    }
   ],
   "source": [
    "#8. Vowel Tester\n",
    "\n",
    "a = input()\n",
    "if (a ==\"A\") or (a ==\"E\") or (a ==\"I\") or (a ==\"O\") or (a ==\"U\") or (a ==\"a\") or (a ==\"e\") or (a ==\"i\") or (a ==\"o\") or (a ==\"u\"):\n",
    "    print(\"Character is vowel\")\n",
    "else:\n",
    "    print(\"character is constant\")"
   ]
  },
  {
   "cell_type": "code",
   "execution_count": null,
   "metadata": {},
   "outputs": [],
   "source": [
    "#18. Vowel and Consonants Counter\n",
    "a = []\n",
    "a = input(\"Enter String\")\n",
    "cons=0\n",
    "vol = 0\n",
    "\n",
    "for i in range ( len(a)):\n",
    "    if (a[i] ==\"A\") or (a[i] ==\"E\") or (a[i] ==\"I\") or (a[i] ==\"O\") or (a[i] ==\"U\") or (a[i] ==\"a\") or (a[i] ==\"e\") or (a[i] ==\"i\") or (a[i] ==\"o\") or (a[i] ==\"u\"):\n",
    "        vol= vol+1\n",
    "    else:\n",
    "        cons = cons+1\n",
    "    \n",
    "print(\"Vowels: \", vol, \"\\n\",\" Consonants: \" , cons)    \n",
    "\n",
    "    \n",
    "    "
   ]
  },
  {
   "cell_type": "code",
   "execution_count": 9,
   "metadata": {},
   "outputs": [
    {
     "name": "stdout",
     "output_type": "stream",
     "text": [
      "Enter number in binary11100\n",
      "28\n"
     ]
    }
   ],
   "source": [
    "# 17. Binary to Decimal Converter\n",
    "temp = 0\n",
    "power =0\n",
    "val =0\n",
    "num = int(input(\"Enter number in binary\"))\n",
    "while num !=0:\n",
    "    temp = (num%2) * pow(2,power)\n",
    "    power = power+1\n",
    "    val = val + temp\n",
    "    num = int(num/10)\n",
    "print(val)"
   ]
  },
  {
   "cell_type": "code",
   "execution_count": 26,
   "metadata": {},
   "outputs": [
    {
     "name": "stdout",
     "output_type": "stream",
     "text": [
      "Enter string to check palindromeCivic\n",
      "its not a pallindrome\n"
     ]
    }
   ],
   "source": [
    "# 19. Palindrome tester\n",
    "\n",
    "str1 = input(\"Enter string to check palindrome  \")\n",
    "\n",
    "str2 = str1[::-1]\n",
    "if str1 == str2:\n",
    "    print(\"its a pallindrome\")\n",
    "else:\n",
    "    print(\"its not a pallindrome\")"
   ]
  },
  {
   "cell_type": "code",
   "execution_count": 25,
   "metadata": {},
   "outputs": [
    {
     "name": "stdout",
     "output_type": "stream",
     "text": [
      "* \r\n",
      "* * \r\n",
      "* * * \r\n",
      "* * * * \r\n",
      "* * * * * \r\n",
      "* * * * \r\n",
      "* * * \r\n",
      "* * \r\n",
      "* \r\n",
      "\r\n"
     ]
    }
   ],
   "source": [
    "# 21. Write a Python program to construct the following pattern\n",
    "\n",
    "rows = 5\n",
    "for i in range (0, rows):\n",
    "    for j in range(0, i + 1):\n",
    "        print(\"*\", end=' ')\n",
    "    print(\"\\r\")\n",
    "for i in range (rows, 0, -1):\n",
    "    for j in range(0, i -1):\n",
    "        print(\"*\", end=' ')\n",
    "    print(\"\\r\")"
   ]
  },
  {
   "cell_type": "code",
   "execution_count": 21,
   "metadata": {},
   "outputs": [
    {
     "name": "stdout",
     "output_type": "stream",
     "text": [
      "1 \r\n",
      "1 2 \r\n",
      "1 2 3 \r\n",
      "1 2 3 4 \r\n",
      "1 2 3 4 5 \r\n",
      "1 2 3 4 \r\n",
      "1 2 3 \r\n",
      "1 2 \r\n",
      "1 \r\n",
      "\r\n"
     ]
    }
   ],
   "source": [
    "# 22. Write a Python program to construct the following pattern\n",
    "\n",
    "rows = 5\n",
    "for i in range (0, rows):\n",
    "    for j in range(0, i + 1):\n",
    "        print(j + 1, end=' ')\n",
    "    print(\"\\r\")\n",
    "for i in range (rows, 0, -1):\n",
    "    for j in range(0, i -1):\n",
    "        print(j + 1, end=' ')\n",
    "    print(\"\\r\")"
   ]
  },
  {
   "cell_type": "code",
   "execution_count": 23,
   "metadata": {},
   "outputs": [
    {
     "name": "stdout",
     "output_type": "stream",
     "text": [
      "1\r\n",
      "22\r\n",
      "333\r\n",
      "4444\r\n",
      "55555\r\n",
      "666666\r\n",
      "7777777\r\n",
      "88888888\r\n",
      "999999999\r\n"
     ]
    }
   ],
   "source": [
    "# 23. Write a Python program to construct the following pattern\n",
    "\n",
    "rows = 9\n",
    "for i in range (0, rows):\n",
    "    for j in range(0, i + 1):\n",
    "        print(i + 1, end='')\n",
    "    print(\"\\r\")"
   ]
  },
  {
   "cell_type": "code",
   "execution_count": null,
   "metadata": {},
   "outputs": [],
   "source": [
    "# 20. Count Alphabets, Numbers and Special Characters\n",
    "\n",
    "x= []\n",
    "x = input (\"enter string\")\n",
    "digit = 0\n",
    "letters = 0\n",
    "space = 0\n",
    "other = 0\n",
    "for i in x:\n",
    "    if x[i].isalpha():\n",
    "        letters += 1\n",
    "    elif x[i].isnumeric():\n",
    "        digit += 1\n",
    "    elif x[i].isspace():\n",
    "        space += 1\n",
    "    else:\n",
    "        other += 1\n",
    "        \n",
    "print(\"Numbers = \", digit, \"Alphabets = \" , letters, \"Special Characters = \",other, \"Spaces = \", space)"
   ]
  },
  {
   "cell_type": "code",
   "execution_count": null,
   "metadata": {},
   "outputs": [],
   "source": []
  }
 ],
 "metadata": {
  "kernelspec": {
   "display_name": "Python 3",
   "language": "python",
   "name": "python3"
  },
  "language_info": {
   "codemirror_mode": {
    "name": "ipython",
    "version": 3
   },
   "file_extension": ".py",
   "mimetype": "text/x-python",
   "name": "python",
   "nbconvert_exporter": "python",
   "pygments_lexer": "ipython3",
   "version": "3.6.7"
  }
 },
 "nbformat": 4,
 "nbformat_minor": 2
}
